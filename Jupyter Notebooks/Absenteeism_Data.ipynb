{
 "metadata": {
  "language_info": {
   "codemirror_mode": {
    "name": "ipython",
    "version": 3
   },
   "file_extension": ".py",
   "mimetype": "text/x-python",
   "name": "python",
   "nbconvert_exporter": "python",
   "pygments_lexer": "ipython3",
   "version": "3.7.6-final"
  },
  "orig_nbformat": 2,
  "kernelspec": {
   "name": "python37664bitbaseconda513a0352d0eb4c09a2aaf2386a53465e",
   "display_name": "Python 3.7.6 64-bit ('base': conda)"
  }
 },
 "nbformat": 4,
 "nbformat_minor": 2,
 "cells": [
  {
   "cell_type": "code",
   "execution_count": 1,
   "metadata": {},
   "outputs": [],
   "source": [
    "import pandas as pd\n",
    "import numpy as np\n",
    "import eda  "
   ]
  },
  {
   "cell_type": "code",
   "execution_count": 2,
   "metadata": {},
   "outputs": [
    {
     "output_type": "execute_result",
     "data": {
      "text/plain": "   ID  Reason for Absence        Date  Transportation Expense  \\\n0  11                  26  07/07/2015                     289   \n1  36                   0  14/07/2015                     118   \n2   3                  23  15/07/2015                     179   \n3   7                   7  16/07/2015                     279   \n4  11                  23  23/07/2015                     289   \n\n   Distance to Work  Age  Daily Work Load Average  Body Mass Index  Education  \\\n0                36   33                  239.554               30          1   \n1                13   50                  239.554               31          1   \n2                51   38                  239.554               31          1   \n3                 5   39                  239.554               24          1   \n4                36   33                  239.554               30          1   \n\n   Children  Pets  Absenteeism Time in Hours  \n0         2     1                          4  \n1         1     0                          0  \n2         0     0                          2  \n3         2     0                          4  \n4         2     1                          2  ",
      "text/html": "<div>\n<style scoped>\n    .dataframe tbody tr th:only-of-type {\n        vertical-align: middle;\n    }\n\n    .dataframe tbody tr th {\n        vertical-align: top;\n    }\n\n    .dataframe thead th {\n        text-align: right;\n    }\n</style>\n<table border=\"1\" class=\"dataframe\">\n  <thead>\n    <tr style=\"text-align: right;\">\n      <th></th>\n      <th>ID</th>\n      <th>Reason for Absence</th>\n      <th>Date</th>\n      <th>Transportation Expense</th>\n      <th>Distance to Work</th>\n      <th>Age</th>\n      <th>Daily Work Load Average</th>\n      <th>Body Mass Index</th>\n      <th>Education</th>\n      <th>Children</th>\n      <th>Pets</th>\n      <th>Absenteeism Time in Hours</th>\n    </tr>\n  </thead>\n  <tbody>\n    <tr>\n      <th>0</th>\n      <td>11</td>\n      <td>26</td>\n      <td>07/07/2015</td>\n      <td>289</td>\n      <td>36</td>\n      <td>33</td>\n      <td>239.554</td>\n      <td>30</td>\n      <td>1</td>\n      <td>2</td>\n      <td>1</td>\n      <td>4</td>\n    </tr>\n    <tr>\n      <th>1</th>\n      <td>36</td>\n      <td>0</td>\n      <td>14/07/2015</td>\n      <td>118</td>\n      <td>13</td>\n      <td>50</td>\n      <td>239.554</td>\n      <td>31</td>\n      <td>1</td>\n      <td>1</td>\n      <td>0</td>\n      <td>0</td>\n    </tr>\n    <tr>\n      <th>2</th>\n      <td>3</td>\n      <td>23</td>\n      <td>15/07/2015</td>\n      <td>179</td>\n      <td>51</td>\n      <td>38</td>\n      <td>239.554</td>\n      <td>31</td>\n      <td>1</td>\n      <td>0</td>\n      <td>0</td>\n      <td>2</td>\n    </tr>\n    <tr>\n      <th>3</th>\n      <td>7</td>\n      <td>7</td>\n      <td>16/07/2015</td>\n      <td>279</td>\n      <td>5</td>\n      <td>39</td>\n      <td>239.554</td>\n      <td>24</td>\n      <td>1</td>\n      <td>2</td>\n      <td>0</td>\n      <td>4</td>\n    </tr>\n    <tr>\n      <th>4</th>\n      <td>11</td>\n      <td>23</td>\n      <td>23/07/2015</td>\n      <td>289</td>\n      <td>36</td>\n      <td>33</td>\n      <td>239.554</td>\n      <td>30</td>\n      <td>1</td>\n      <td>2</td>\n      <td>1</td>\n      <td>2</td>\n    </tr>\n  </tbody>\n</table>\n</div>"
     },
     "metadata": {},
     "execution_count": 2
    }
   ],
   "source": [
    "data = eda.file2df(file_ = \"Absenteeism_data.csv\")\n",
    "raw_data_copy = data.copy() #Safety dataset copy\n",
    "data.head(5)"
   ]
  },
  {
   "cell_type": "code",
   "execution_count": 3,
   "metadata": {
    "tags": []
   },
   "outputs": [
    {
     "output_type": "stream",
     "name": "stdout",
     "text": "<class 'pandas.core.frame.DataFrame'>\nRangeIndex: 700 entries, 0 to 699\nData columns (total 11 columns):\n #   Column            Non-Null Count  Dtype  \n---  ------            --------------  -----  \n 0   reason            700 non-null    int64  \n 1   date              700 non-null    object \n 2   transp exp        700 non-null    int64  \n 3   distance to work  700 non-null    int64  \n 4   age               700 non-null    int64  \n 5   avg work load     700 non-null    float64\n 6   bmi               700 non-null    int64  \n 7   education         700 non-null    int64  \n 8   kids              700 non-null    int64  \n 9   pets              700 non-null    int64  \n 10  absence/h         700 non-null    int64  \ndtypes: float64(1), int64(9), object(1)\nmemory usage: 60.3+ KB\n"
    }
   ],
   "source": [
    "data.drop([\"ID\"], axis = 1, inplace = True) #ID not important information \n",
    "data.rename(columns = {\"Reason for Absence\":\"reason\", \"Transportation Expense\":\"transp exp\", \"Distance to work\":\"distance\", \"Daily Work Load Average\":\"avg work load\", \"Body Mass Index\":\"BMI\", \"Children\":\"kids\", \"Absenteeism Time in Hours\":\"absence/h\"}, inplace = True)\n",
    "data.rename(str.lower, axis = 1, inplace = True)\n",
    "data.info()"
   ]
  },
  {
   "cell_type": "code",
   "execution_count": 4,
   "metadata": {},
   "outputs": [
    {
     "output_type": "execute_result",
     "data": {
      "text/plain": "           reason  transp exp  distance to work         age  avg work load  \\\ncount  700.000000  700.000000        700.000000  700.000000     700.000000   \nmean    19.411429  222.347143         29.892857   36.417143     271.801774   \nstd      8.356292   66.312960         14.804446    6.379083      40.021804   \nmin      0.000000  118.000000          5.000000   27.000000     205.917000   \n25%     13.000000  179.000000         16.000000   31.000000     241.476000   \n50%     23.000000  225.000000         26.000000   37.000000     264.249000   \n75%     27.000000  260.000000         50.000000   40.000000     294.217000   \nmax     28.000000  388.000000         52.000000   58.000000     378.884000   \n\n              bmi   education        kids        pets   absence/h  \ncount  700.000000  700.000000  700.000000  700.000000  700.000000  \nmean    26.737143    1.282857    1.021429    0.687143    6.761429  \nstd      4.254701    0.668090    1.112215    1.166095   12.670082  \nmin     19.000000    1.000000    0.000000    0.000000    0.000000  \n25%     24.000000    1.000000    0.000000    0.000000    2.000000  \n50%     25.000000    1.000000    1.000000    0.000000    3.000000  \n75%     31.000000    1.000000    2.000000    1.000000    8.000000  \nmax     38.000000    4.000000    4.000000    8.000000  120.000000  ",
      "text/html": "<div>\n<style scoped>\n    .dataframe tbody tr th:only-of-type {\n        vertical-align: middle;\n    }\n\n    .dataframe tbody tr th {\n        vertical-align: top;\n    }\n\n    .dataframe thead th {\n        text-align: right;\n    }\n</style>\n<table border=\"1\" class=\"dataframe\">\n  <thead>\n    <tr style=\"text-align: right;\">\n      <th></th>\n      <th>reason</th>\n      <th>transp exp</th>\n      <th>distance to work</th>\n      <th>age</th>\n      <th>avg work load</th>\n      <th>bmi</th>\n      <th>education</th>\n      <th>kids</th>\n      <th>pets</th>\n      <th>absence/h</th>\n    </tr>\n  </thead>\n  <tbody>\n    <tr>\n      <th>count</th>\n      <td>700.000000</td>\n      <td>700.000000</td>\n      <td>700.000000</td>\n      <td>700.000000</td>\n      <td>700.000000</td>\n      <td>700.000000</td>\n      <td>700.000000</td>\n      <td>700.000000</td>\n      <td>700.000000</td>\n      <td>700.000000</td>\n    </tr>\n    <tr>\n      <th>mean</th>\n      <td>19.411429</td>\n      <td>222.347143</td>\n      <td>29.892857</td>\n      <td>36.417143</td>\n      <td>271.801774</td>\n      <td>26.737143</td>\n      <td>1.282857</td>\n      <td>1.021429</td>\n      <td>0.687143</td>\n      <td>6.761429</td>\n    </tr>\n    <tr>\n      <th>std</th>\n      <td>8.356292</td>\n      <td>66.312960</td>\n      <td>14.804446</td>\n      <td>6.379083</td>\n      <td>40.021804</td>\n      <td>4.254701</td>\n      <td>0.668090</td>\n      <td>1.112215</td>\n      <td>1.166095</td>\n      <td>12.670082</td>\n    </tr>\n    <tr>\n      <th>min</th>\n      <td>0.000000</td>\n      <td>118.000000</td>\n      <td>5.000000</td>\n      <td>27.000000</td>\n      <td>205.917000</td>\n      <td>19.000000</td>\n      <td>1.000000</td>\n      <td>0.000000</td>\n      <td>0.000000</td>\n      <td>0.000000</td>\n    </tr>\n    <tr>\n      <th>25%</th>\n      <td>13.000000</td>\n      <td>179.000000</td>\n      <td>16.000000</td>\n      <td>31.000000</td>\n      <td>241.476000</td>\n      <td>24.000000</td>\n      <td>1.000000</td>\n      <td>0.000000</td>\n      <td>0.000000</td>\n      <td>2.000000</td>\n    </tr>\n    <tr>\n      <th>50%</th>\n      <td>23.000000</td>\n      <td>225.000000</td>\n      <td>26.000000</td>\n      <td>37.000000</td>\n      <td>264.249000</td>\n      <td>25.000000</td>\n      <td>1.000000</td>\n      <td>1.000000</td>\n      <td>0.000000</td>\n      <td>3.000000</td>\n    </tr>\n    <tr>\n      <th>75%</th>\n      <td>27.000000</td>\n      <td>260.000000</td>\n      <td>50.000000</td>\n      <td>40.000000</td>\n      <td>294.217000</td>\n      <td>31.000000</td>\n      <td>1.000000</td>\n      <td>2.000000</td>\n      <td>1.000000</td>\n      <td>8.000000</td>\n    </tr>\n    <tr>\n      <th>max</th>\n      <td>28.000000</td>\n      <td>388.000000</td>\n      <td>52.000000</td>\n      <td>58.000000</td>\n      <td>378.884000</td>\n      <td>38.000000</td>\n      <td>4.000000</td>\n      <td>4.000000</td>\n      <td>8.000000</td>\n      <td>120.000000</td>\n    </tr>\n  </tbody>\n</table>\n</div>"
     },
     "metadata": {},
     "execution_count": 4
    }
   ],
   "source": [
    "data.describe() #reason categorical variable, from 0 to 28 classes. Statistical analysis not important"
   ]
  },
  {
   "cell_type": "code",
   "execution_count": 5,
   "metadata": {},
   "outputs": [
    {
     "output_type": "execute_result",
     "data": {
      "text/plain": "         date  transp exp  distance to work  age  avg work load  bmi  \\\n0  07/07/2015         289                36   33        239.554   30   \n1  14/07/2015         118                13   50        239.554   31   \n2  15/07/2015         179                51   38        239.554   31   \n3  16/07/2015         279                 5   39        239.554   24   \n4  23/07/2015         289                36   33        239.554   30   \n\n   education  kids  pets  absence/h  reason_1  reason_2  reason_3  reason_4  \n0          1     2     1          4         0         0         0         1  \n1          1     1     0          0         0         0         0         0  \n2          1     0     0          2         0         0         0         1  \n3          1     2     0          4         1         0         0         0  \n4          1     2     1          2         0         0         0         1  ",
      "text/html": "<div>\n<style scoped>\n    .dataframe tbody tr th:only-of-type {\n        vertical-align: middle;\n    }\n\n    .dataframe tbody tr th {\n        vertical-align: top;\n    }\n\n    .dataframe thead th {\n        text-align: right;\n    }\n</style>\n<table border=\"1\" class=\"dataframe\">\n  <thead>\n    <tr style=\"text-align: right;\">\n      <th></th>\n      <th>date</th>\n      <th>transp exp</th>\n      <th>distance to work</th>\n      <th>age</th>\n      <th>avg work load</th>\n      <th>bmi</th>\n      <th>education</th>\n      <th>kids</th>\n      <th>pets</th>\n      <th>absence/h</th>\n      <th>reason_1</th>\n      <th>reason_2</th>\n      <th>reason_3</th>\n      <th>reason_4</th>\n    </tr>\n  </thead>\n  <tbody>\n    <tr>\n      <th>0</th>\n      <td>07/07/2015</td>\n      <td>289</td>\n      <td>36</td>\n      <td>33</td>\n      <td>239.554</td>\n      <td>30</td>\n      <td>1</td>\n      <td>2</td>\n      <td>1</td>\n      <td>4</td>\n      <td>0</td>\n      <td>0</td>\n      <td>0</td>\n      <td>1</td>\n    </tr>\n    <tr>\n      <th>1</th>\n      <td>14/07/2015</td>\n      <td>118</td>\n      <td>13</td>\n      <td>50</td>\n      <td>239.554</td>\n      <td>31</td>\n      <td>1</td>\n      <td>1</td>\n      <td>0</td>\n      <td>0</td>\n      <td>0</td>\n      <td>0</td>\n      <td>0</td>\n      <td>0</td>\n    </tr>\n    <tr>\n      <th>2</th>\n      <td>15/07/2015</td>\n      <td>179</td>\n      <td>51</td>\n      <td>38</td>\n      <td>239.554</td>\n      <td>31</td>\n      <td>1</td>\n      <td>0</td>\n      <td>0</td>\n      <td>2</td>\n      <td>0</td>\n      <td>0</td>\n      <td>0</td>\n      <td>1</td>\n    </tr>\n    <tr>\n      <th>3</th>\n      <td>16/07/2015</td>\n      <td>279</td>\n      <td>5</td>\n      <td>39</td>\n      <td>239.554</td>\n      <td>24</td>\n      <td>1</td>\n      <td>2</td>\n      <td>0</td>\n      <td>4</td>\n      <td>1</td>\n      <td>0</td>\n      <td>0</td>\n      <td>0</td>\n    </tr>\n    <tr>\n      <th>4</th>\n      <td>23/07/2015</td>\n      <td>289</td>\n      <td>36</td>\n      <td>33</td>\n      <td>239.554</td>\n      <td>30</td>\n      <td>1</td>\n      <td>2</td>\n      <td>1</td>\n      <td>2</td>\n      <td>0</td>\n      <td>0</td>\n      <td>0</td>\n      <td>1</td>\n    </tr>\n  </tbody>\n</table>\n</div>"
     },
     "metadata": {},
     "execution_count": 5
    }
   ],
   "source": [
    "reasons = pd.get_dummies(data[\"reason\"], drop_first = True)\n",
    "data.drop(columns = [\"reason\"], axis = 1, inplace = True)\n",
    "\n",
    "#reasons grouping in 4 major categories:\n",
    "data[\"reason_1\"]= reasons.loc[:, 1:14].max(axis = 1) \n",
    "data[\"reason_2\"] = reasons.loc[:, 15:17].max(axis = 1) \n",
    "data[\"reason_3\"] = reasons.loc[:, 18:21].max(axis = 1) \n",
    "data[\"reason_4\"] = reasons.loc[:, 22:].max(axis = 1)\n",
    "data.head()"
   ]
  },
  {
   "cell_type": "code",
   "execution_count": 6,
   "metadata": {},
   "outputs": [],
   "source": [
    "data_until_reasons = data.copy() #check point until reason classification"
   ]
  },
  {
   "cell_type": "code",
   "execution_count": 7,
   "metadata": {},
   "outputs": [
    {
     "output_type": "execute_result",
     "data": {
      "text/plain": "   transp exp  distance to work  age  avg work load  bmi  education  kids  \\\n0         289                36   33        239.554   30          1     2   \n1         118                13   50        239.554   31          1     1   \n2         179                51   38        239.554   31          1     0   \n3         279                 5   39        239.554   24          1     2   \n4         289                36   33        239.554   30          1     2   \n\n   pets  absence/h  reason_1  reason_2  reason_3  reason_4  weekday  month  \n0     1          4         0         0         0         1        1      7  \n1     0          0         0         0         0         0        1      7  \n2     0          2         0         0         0         1        2      7  \n3     0          4         1         0         0         0        3      7  \n4     1          2         0         0         0         1        3      7  ",
      "text/html": "<div>\n<style scoped>\n    .dataframe tbody tr th:only-of-type {\n        vertical-align: middle;\n    }\n\n    .dataframe tbody tr th {\n        vertical-align: top;\n    }\n\n    .dataframe thead th {\n        text-align: right;\n    }\n</style>\n<table border=\"1\" class=\"dataframe\">\n  <thead>\n    <tr style=\"text-align: right;\">\n      <th></th>\n      <th>transp exp</th>\n      <th>distance to work</th>\n      <th>age</th>\n      <th>avg work load</th>\n      <th>bmi</th>\n      <th>education</th>\n      <th>kids</th>\n      <th>pets</th>\n      <th>absence/h</th>\n      <th>reason_1</th>\n      <th>reason_2</th>\n      <th>reason_3</th>\n      <th>reason_4</th>\n      <th>weekday</th>\n      <th>month</th>\n    </tr>\n  </thead>\n  <tbody>\n    <tr>\n      <th>0</th>\n      <td>289</td>\n      <td>36</td>\n      <td>33</td>\n      <td>239.554</td>\n      <td>30</td>\n      <td>1</td>\n      <td>2</td>\n      <td>1</td>\n      <td>4</td>\n      <td>0</td>\n      <td>0</td>\n      <td>0</td>\n      <td>1</td>\n      <td>1</td>\n      <td>7</td>\n    </tr>\n    <tr>\n      <th>1</th>\n      <td>118</td>\n      <td>13</td>\n      <td>50</td>\n      <td>239.554</td>\n      <td>31</td>\n      <td>1</td>\n      <td>1</td>\n      <td>0</td>\n      <td>0</td>\n      <td>0</td>\n      <td>0</td>\n      <td>0</td>\n      <td>0</td>\n      <td>1</td>\n      <td>7</td>\n    </tr>\n    <tr>\n      <th>2</th>\n      <td>179</td>\n      <td>51</td>\n      <td>38</td>\n      <td>239.554</td>\n      <td>31</td>\n      <td>1</td>\n      <td>0</td>\n      <td>0</td>\n      <td>2</td>\n      <td>0</td>\n      <td>0</td>\n      <td>0</td>\n      <td>1</td>\n      <td>2</td>\n      <td>7</td>\n    </tr>\n    <tr>\n      <th>3</th>\n      <td>279</td>\n      <td>5</td>\n      <td>39</td>\n      <td>239.554</td>\n      <td>24</td>\n      <td>1</td>\n      <td>2</td>\n      <td>0</td>\n      <td>4</td>\n      <td>1</td>\n      <td>0</td>\n      <td>0</td>\n      <td>0</td>\n      <td>3</td>\n      <td>7</td>\n    </tr>\n    <tr>\n      <th>4</th>\n      <td>289</td>\n      <td>36</td>\n      <td>33</td>\n      <td>239.554</td>\n      <td>30</td>\n      <td>1</td>\n      <td>2</td>\n      <td>1</td>\n      <td>2</td>\n      <td>0</td>\n      <td>0</td>\n      <td>0</td>\n      <td>1</td>\n      <td>3</td>\n      <td>7</td>\n    </tr>\n  </tbody>\n</table>\n</div>"
     },
     "metadata": {},
     "execution_count": 7
    }
   ],
   "source": [
    "data[\"date\"] = pd.to_datetime(data[\"date\"], format = \"%d/%m/%Y\")\n",
    "data[\"weekday\"] = data[\"date\"].apply(eda.date2weekday)\n",
    "data[\"month\"] = data[\"date\"].apply(eda.date2month)\n",
    "data.drop([\"date\"], axis = 1, inplace = True)\n",
    "data.head()"
   ]
  },
  {
   "cell_type": "code",
   "execution_count": 8,
   "metadata": {
    "tags": []
   },
   "outputs": [
    {
     "output_type": "stream",
     "name": "stdout",
     "text": "[1 3 2 4]\n"
    },
    {
     "output_type": "execute_result",
     "data": {
      "text/plain": "1    583\n3     73\n2     40\n4      4\nName: education, dtype: int64"
     },
     "metadata": {},
     "execution_count": 8
    }
   ],
   "source": [
    "print(data[\"education\"].unique())\n",
    "data[\"education\"].value_counts() "
   ]
  },
  {
   "cell_type": "code",
   "execution_count": 9,
   "metadata": {
    "tags": []
   },
   "outputs": [
    {
     "output_type": "stream",
     "name": "stdout",
     "text": "[0 1]\n"
    },
    {
     "output_type": "execute_result",
     "data": {
      "text/plain": "0    583\n1    117\nName: education, dtype: int64"
     },
     "metadata": {},
     "execution_count": 9
    }
   ],
   "source": [
    "#4 ranges of education, make sence to group in 2 categories with or without higher education\n",
    "data[\"education\"] = data[\"education\"].map({1:0, 2:1, 3:1, 4:1}) #Now 0 != [Higher Education] & 1 == [Higher Education]\n",
    "print(data[\"education\"].unique())\n",
    "data[\"education\"].value_counts() "
   ]
  },
  {
   "cell_type": "code",
   "execution_count": 10,
   "metadata": {},
   "outputs": [],
   "source": [
    "eda.df2file(data)"
   ]
  }
 ]
}