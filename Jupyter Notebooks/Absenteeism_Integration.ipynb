{
 "cells": [
  {
   "source": [
    "## Using the model\n",
    "Once the prediction has been achived with the previously targeted data [**supervised learning**] and all the pre-processing of the data and the model have been stored, the same model is ready to be used with un-targeted data and obtain **predictions & probabilities** about new employees. "
   ],
   "cell_type": "markdown",
   "metadata": {}
  },
  {
   "cell_type": "code",
   "execution_count": 1,
   "metadata": {},
   "outputs": [],
   "source": [
    "from absenteeism_module import *"
   ]
  },
  {
   "cell_type": "code",
   "execution_count": 2,
   "metadata": {},
   "outputs": [
    {
     "output_type": "execute_result",
     "data": {
      "text/plain": "   Reason_1  Reason_2  Reason_3  Reason_4  Month Value  \\\n0         0       0.0         0         1            6   \n1         1       0.0         0         0            6   \n2         0       0.0         0         1            6   \n3         0       0.0         0         1            6   \n4         1       0.0         0         0            6   \n\n   Transportation Expense  Age  Education  Children  Pet  Probability  \\\n0                     179   30          1         0    0     0.122799   \n1                     361   28          0         1    4     0.873392   \n2                     155   34          0         2    0     0.268305   \n3                     179   40          1         2    0     0.196385   \n4                     155   34          0         2    0     0.723502   \n\n   Prediction  \n0           0  \n1           1  \n2           0  \n3           0  \n4           1  ",
      "text/html": "<div>\n<style scoped>\n    .dataframe tbody tr th:only-of-type {\n        vertical-align: middle;\n    }\n\n    .dataframe tbody tr th {\n        vertical-align: top;\n    }\n\n    .dataframe thead th {\n        text-align: right;\n    }\n</style>\n<table border=\"1\" class=\"dataframe\">\n  <thead>\n    <tr style=\"text-align: right;\">\n      <th></th>\n      <th>Reason_1</th>\n      <th>Reason_2</th>\n      <th>Reason_3</th>\n      <th>Reason_4</th>\n      <th>Month Value</th>\n      <th>Transportation Expense</th>\n      <th>Age</th>\n      <th>Education</th>\n      <th>Children</th>\n      <th>Pet</th>\n      <th>Probability</th>\n      <th>Prediction</th>\n    </tr>\n  </thead>\n  <tbody>\n    <tr>\n      <th>0</th>\n      <td>0</td>\n      <td>0.0</td>\n      <td>0</td>\n      <td>1</td>\n      <td>6</td>\n      <td>179</td>\n      <td>30</td>\n      <td>1</td>\n      <td>0</td>\n      <td>0</td>\n      <td>0.122799</td>\n      <td>0</td>\n    </tr>\n    <tr>\n      <th>1</th>\n      <td>1</td>\n      <td>0.0</td>\n      <td>0</td>\n      <td>0</td>\n      <td>6</td>\n      <td>361</td>\n      <td>28</td>\n      <td>0</td>\n      <td>1</td>\n      <td>4</td>\n      <td>0.873392</td>\n      <td>1</td>\n    </tr>\n    <tr>\n      <th>2</th>\n      <td>0</td>\n      <td>0.0</td>\n      <td>0</td>\n      <td>1</td>\n      <td>6</td>\n      <td>155</td>\n      <td>34</td>\n      <td>0</td>\n      <td>2</td>\n      <td>0</td>\n      <td>0.268305</td>\n      <td>0</td>\n    </tr>\n    <tr>\n      <th>3</th>\n      <td>0</td>\n      <td>0.0</td>\n      <td>0</td>\n      <td>1</td>\n      <td>6</td>\n      <td>179</td>\n      <td>40</td>\n      <td>1</td>\n      <td>2</td>\n      <td>0</td>\n      <td>0.196385</td>\n      <td>0</td>\n    </tr>\n    <tr>\n      <th>4</th>\n      <td>1</td>\n      <td>0.0</td>\n      <td>0</td>\n      <td>0</td>\n      <td>6</td>\n      <td>155</td>\n      <td>34</td>\n      <td>0</td>\n      <td>2</td>\n      <td>0</td>\n      <td>0.723502</td>\n      <td>1</td>\n    </tr>\n  </tbody>\n</table>\n</div>"
     },
     "metadata": {},
     "execution_count": 2
    }
   ],
   "source": [
    "model = absenteeism_model(\"model_mod\", \"scaler\")\n",
    "model.load_and_clean_data(\"...\\Absenteeism_new_data.csv\")\n",
    "new_predictions = model.predicted_outputs()\n",
    "new_predictions.drop([\"Body Mass Index\"], axis = 1, inplace = True) #column number incongruency with SQL if we dont drop BMI\n",
    "new_predictions.head()"
   ]
  },
  {
   "source": [
    "## Conencting Python & SQL\n",
    "SQL stores and organizes the information, both for targeted data used for the model construction and the new data, with the predictions obtained with the model.\n",
    "Python allow us to clean, process and work with data. [** SO WE NEED TO CONNECT THESE TWO TOOLS IN ORDER TO WORK IN A MORE EFFICIENT WAY**]\n"
   ],
   "cell_type": "markdown",
   "metadata": {}
  },
  {
   "cell_type": "code",
   "execution_count": 3,
   "metadata": {},
   "outputs": [],
   "source": [
    "import pymysql\n",
    "conn = pymysql.connect(database = \"predicted_outputs\", user = \"****\", password = \"********\")\n",
    "cursor = conn.cursor()"
   ]
  },
  {
   "cell_type": "code",
   "execution_count": 4,
   "metadata": {},
   "outputs": [],
   "source": [
    "insert = \"INSERT INTO predicted_outputs VALUES \"\n",
    "\n",
    "for i in range(new_predictions.shape[0]): #generating a new line of SQL code fow each df_row\n",
    "    insert += \"(\"\n",
    "    for j in range(new_predictions.shape[1]): #extracting the value of each parameter for SQL, in each df_column\n",
    "        insert += str(new_predictions[new_predictions.columns.values[j]][i]) + \", \"\n",
    "    insert = insert[:-2] + \"), \" #when value extration is over in df_row end SQL code with ),\n",
    "insert = insert[:-2] + \";\" #when value extraction is over in df end SQL query with ;    "
   ]
  },
  {
   "cell_type": "code",
   "execution_count": 5,
   "metadata": {},
   "outputs": [],
   "source": [
    "cursor.execute(insert)\n",
    "conn.commit()"
   ]
  }
 ],
 "metadata": {
  "kernelspec": {
   "name": "Python 3.7.6 64-bit ('34609': virtualenv)",
   "display_name": "Python 3.7.6 64-bit ('34609': virtualenv)",
   "metadata": {
    "interpreter": {
     "hash": "90e3fb49db024d09987aedecd404f9e68bdaac879e88c8e6fedfd0c4158396c5"
    }
   }
  }
 },
 "nbformat": 4,
 "nbformat_minor": 2
}