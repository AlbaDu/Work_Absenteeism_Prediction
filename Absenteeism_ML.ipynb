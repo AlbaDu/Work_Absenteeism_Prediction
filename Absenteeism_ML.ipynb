{
 "metadata": {
  "language_info": {
   "codemirror_mode": {
    "name": "ipython",
    "version": 3
   },
   "file_extension": ".py",
   "mimetype": "text/x-python",
   "name": "python",
   "nbconvert_exporter": "python",
   "pygments_lexer": "ipython3",
   "version": "3.7.6-final"
  },
  "orig_nbformat": 2,
  "kernelspec": {
   "name": "Python 3.7.6 64-bit ('base': conda)",
   "display_name": "Python 3.7.6 64-bit ('base': conda)",
   "metadata": {
    "interpreter": {
     "hash": "90e3fb49db024d09987aedecd404f9e68bdaac879e88c8e6fedfd0c4158396c5"
    }
   }
  }
 },
 "nbformat": 4,
 "nbformat_minor": 2,
 "cells": [
  {
   "cell_type": "code",
   "execution_count": 1,
   "metadata": {},
   "outputs": [],
   "source": [
    "import pandas as pd \n",
    "import numpy as np \n",
    "import ml "
   ]
  },
  {
   "cell_type": "code",
   "execution_count": 2,
   "metadata": {},
   "outputs": [
    {
     "output_type": "execute_result",
     "data": {
      "text/plain": "   transp exp  distance to work  age  avg work load  bmi  education  kids  \\\n0         289                36   33        239.554   30          0     2   \n1         118                13   50        239.554   31          0     1   \n2         179                51   38        239.554   31          0     0   \n3         279                 5   39        239.554   24          0     2   \n4         289                36   33        239.554   30          0     2   \n\n   pets  absence/h  reason_1  reason_2  reason_3  reason_4  weekday  month  \n0     1          4         0         0         0         1        1      7  \n1     0          0         0         0         0         0        1      7  \n2     0          2         0         0         0         1        2      7  \n3     0          4         1         0         0         0        3      7  \n4     1          2         0         0         0         1        3      7  ",
      "text/html": "<div>\n<style scoped>\n    .dataframe tbody tr th:only-of-type {\n        vertical-align: middle;\n    }\n\n    .dataframe tbody tr th {\n        vertical-align: top;\n    }\n\n    .dataframe thead th {\n        text-align: right;\n    }\n</style>\n<table border=\"1\" class=\"dataframe\">\n  <thead>\n    <tr style=\"text-align: right;\">\n      <th></th>\n      <th>transp exp</th>\n      <th>distance to work</th>\n      <th>age</th>\n      <th>avg work load</th>\n      <th>bmi</th>\n      <th>education</th>\n      <th>kids</th>\n      <th>pets</th>\n      <th>absence/h</th>\n      <th>reason_1</th>\n      <th>reason_2</th>\n      <th>reason_3</th>\n      <th>reason_4</th>\n      <th>weekday</th>\n      <th>month</th>\n    </tr>\n  </thead>\n  <tbody>\n    <tr>\n      <th>0</th>\n      <td>289</td>\n      <td>36</td>\n      <td>33</td>\n      <td>239.554</td>\n      <td>30</td>\n      <td>0</td>\n      <td>2</td>\n      <td>1</td>\n      <td>4</td>\n      <td>0</td>\n      <td>0</td>\n      <td>0</td>\n      <td>1</td>\n      <td>1</td>\n      <td>7</td>\n    </tr>\n    <tr>\n      <th>1</th>\n      <td>118</td>\n      <td>13</td>\n      <td>50</td>\n      <td>239.554</td>\n      <td>31</td>\n      <td>0</td>\n      <td>1</td>\n      <td>0</td>\n      <td>0</td>\n      <td>0</td>\n      <td>0</td>\n      <td>0</td>\n      <td>0</td>\n      <td>1</td>\n      <td>7</td>\n    </tr>\n    <tr>\n      <th>2</th>\n      <td>179</td>\n      <td>51</td>\n      <td>38</td>\n      <td>239.554</td>\n      <td>31</td>\n      <td>0</td>\n      <td>0</td>\n      <td>0</td>\n      <td>2</td>\n      <td>0</td>\n      <td>0</td>\n      <td>0</td>\n      <td>1</td>\n      <td>2</td>\n      <td>7</td>\n    </tr>\n    <tr>\n      <th>3</th>\n      <td>279</td>\n      <td>5</td>\n      <td>39</td>\n      <td>239.554</td>\n      <td>24</td>\n      <td>0</td>\n      <td>2</td>\n      <td>0</td>\n      <td>4</td>\n      <td>1</td>\n      <td>0</td>\n      <td>0</td>\n      <td>0</td>\n      <td>3</td>\n      <td>7</td>\n    </tr>\n    <tr>\n      <th>4</th>\n      <td>289</td>\n      <td>36</td>\n      <td>33</td>\n      <td>239.554</td>\n      <td>30</td>\n      <td>0</td>\n      <td>2</td>\n      <td>1</td>\n      <td>2</td>\n      <td>0</td>\n      <td>0</td>\n      <td>0</td>\n      <td>1</td>\n      <td>3</td>\n      <td>7</td>\n    </tr>\n  </tbody>\n</table>\n</div>"
     },
     "metadata": {},
     "execution_count": 2
    }
   ],
   "source": [
    "cleaned_data = ml.file2df(file_ = \"Absenteeism_data_cleaned.csv\")\n",
    "safe_copy = cleaned_data.copy() \n",
    "cleaned_data.head(5)"
   ]
  },
  {
   "source": [
    "## Classification of ABSENTEEISM\n",
    "In this example, the study of the data and further prediction would be based in the MEDIAN value of *absence hours*.\n",
    "\n",
    "        1. If a person is EQUAL OR ABOVE the MEDIAN it would be consider excessively absent.\n",
    "        2. If a person is UNDER the MEDIAN, it would be consider moderately absent.\n",
    "\n",
    "For making such classification, we first need to calculate the MEDIAN value, and assign a value to each record of the df"
   ],
   "cell_type": "markdown",
   "metadata": {}
  },
  {
   "cell_type": "code",
   "execution_count": 3,
   "metadata": {},
   "outputs": [
    {
     "output_type": "execute_result",
     "data": {
      "text/plain": "   transp exp  distance to work  age  avg work load  bmi  education  kids  \\\n0         289                36   33        239.554   30          0     2   \n1         118                13   50        239.554   31          0     1   \n2         179                51   38        239.554   31          0     0   \n3         279                 5   39        239.554   24          0     2   \n4         289                36   33        239.554   30          0     2   \n\n   pets  reason_1  reason_2  reason_3  reason_4  weekday  month  target  \n0     1         0         0         0         1        1      7       1  \n1     0         0         0         0         0        1      7       0  \n2     0         0         0         0         1        2      7       0  \n3     0         1         0         0         0        3      7       1  \n4     1         0         0         0         1        3      7       0  ",
      "text/html": "<div>\n<style scoped>\n    .dataframe tbody tr th:only-of-type {\n        vertical-align: middle;\n    }\n\n    .dataframe tbody tr th {\n        vertical-align: top;\n    }\n\n    .dataframe thead th {\n        text-align: right;\n    }\n</style>\n<table border=\"1\" class=\"dataframe\">\n  <thead>\n    <tr style=\"text-align: right;\">\n      <th></th>\n      <th>transp exp</th>\n      <th>distance to work</th>\n      <th>age</th>\n      <th>avg work load</th>\n      <th>bmi</th>\n      <th>education</th>\n      <th>kids</th>\n      <th>pets</th>\n      <th>reason_1</th>\n      <th>reason_2</th>\n      <th>reason_3</th>\n      <th>reason_4</th>\n      <th>weekday</th>\n      <th>month</th>\n      <th>target</th>\n    </tr>\n  </thead>\n  <tbody>\n    <tr>\n      <th>0</th>\n      <td>289</td>\n      <td>36</td>\n      <td>33</td>\n      <td>239.554</td>\n      <td>30</td>\n      <td>0</td>\n      <td>2</td>\n      <td>1</td>\n      <td>0</td>\n      <td>0</td>\n      <td>0</td>\n      <td>1</td>\n      <td>1</td>\n      <td>7</td>\n      <td>1</td>\n    </tr>\n    <tr>\n      <th>1</th>\n      <td>118</td>\n      <td>13</td>\n      <td>50</td>\n      <td>239.554</td>\n      <td>31</td>\n      <td>0</td>\n      <td>1</td>\n      <td>0</td>\n      <td>0</td>\n      <td>0</td>\n      <td>0</td>\n      <td>0</td>\n      <td>1</td>\n      <td>7</td>\n      <td>0</td>\n    </tr>\n    <tr>\n      <th>2</th>\n      <td>179</td>\n      <td>51</td>\n      <td>38</td>\n      <td>239.554</td>\n      <td>31</td>\n      <td>0</td>\n      <td>0</td>\n      <td>0</td>\n      <td>0</td>\n      <td>0</td>\n      <td>0</td>\n      <td>1</td>\n      <td>2</td>\n      <td>7</td>\n      <td>0</td>\n    </tr>\n    <tr>\n      <th>3</th>\n      <td>279</td>\n      <td>5</td>\n      <td>39</td>\n      <td>239.554</td>\n      <td>24</td>\n      <td>0</td>\n      <td>2</td>\n      <td>0</td>\n      <td>1</td>\n      <td>0</td>\n      <td>0</td>\n      <td>0</td>\n      <td>3</td>\n      <td>7</td>\n      <td>1</td>\n    </tr>\n    <tr>\n      <th>4</th>\n      <td>289</td>\n      <td>36</td>\n      <td>33</td>\n      <td>239.554</td>\n      <td>30</td>\n      <td>0</td>\n      <td>2</td>\n      <td>1</td>\n      <td>0</td>\n      <td>0</td>\n      <td>0</td>\n      <td>1</td>\n      <td>3</td>\n      <td>7</td>\n      <td>0</td>\n    </tr>\n  </tbody>\n</table>\n</div>"
     },
     "metadata": {},
     "execution_count": 3
    }
   ],
   "source": [
    "cleaned_data[\"target\"] = ml.target(cleaned_data[\"absence/h\"], cleaned_data[\"absence/h\"].median())\n",
    "cleaned_data.drop([\"absence/h\"], axis = 1, inplace = True)\n",
    "cleaned_data_until_target = cleaned_data.copy()\n",
    "cleaned_data.head()"
   ]
  },
  {
   "cell_type": "code",
   "execution_count": 4,
   "metadata": {},
   "outputs": [],
   "source": [
    "X = cleaned_data.iloc[:, :-1]\n",
    "y = cleaned_data.iloc[:, -1]"
   ]
  },
  {
   "source": [
    "## Standardization of data\n",
    "When data are dispersed in dimensions, we need to run an **Standardization-Step** prior to the ML process. WE also NEED to exclude the categorical features, previously transformed with .get_dummies() from the standardization thats why we divided the features into categorical and numerical."
   ],
   "cell_type": "markdown",
   "metadata": {}
  },
  {
   "cell_type": "code",
   "execution_count": 5,
   "metadata": {},
   "outputs": [],
   "source": [
    "categorical = [\"education\", \"reason_1\", \"reason_2\", \"reason_3\", \"reason_4\"]\n",
    "numerical = [\"transp exp\", \"distance to work\", \"age\", \"avg work load\", \"bmi\", \"kids\", \"pets\", \"weekday\", \"month\"]"
   ]
  },
  {
   "cell_type": "code",
   "execution_count": 6,
   "metadata": {},
   "outputs": [
    {
     "output_type": "execute_result",
     "data": {
      "text/plain": "   transp exp  distance to work       age  avg work load       bmi      kids  \\\n0    1.005844          0.412816 -0.536062      -0.806331  0.767431  0.880469   \n1   -1.574681         -1.141882  2.130803      -0.806331  1.002633 -0.019280   \n2   -0.654143          1.426749  0.248310      -0.806331  1.002633 -0.919030   \n3    0.854936         -1.682647  0.405184      -0.806331 -0.643782  0.880469   \n4    1.005844          0.412816 -0.536062      -0.806331  0.767431  0.880469   \n\n       pets   weekday     month  education  reason_1  reason_2  reason_3  \\\n0  0.268487 -0.683704  0.182726          0         0         0         0   \n1 -0.589690 -0.683704  0.182726          0         0         0         0   \n2 -0.589690 -0.007725  0.182726          0         0         0         0   \n3 -0.589690  0.668253  0.182726          0         1         0         0   \n4  0.268487  0.668253  0.182726          0         0         0         0   \n\n   reason_4  \n0         1  \n1         0  \n2         1  \n3         0  \n4         1  ",
      "text/html": "<div>\n<style scoped>\n    .dataframe tbody tr th:only-of-type {\n        vertical-align: middle;\n    }\n\n    .dataframe tbody tr th {\n        vertical-align: top;\n    }\n\n    .dataframe thead th {\n        text-align: right;\n    }\n</style>\n<table border=\"1\" class=\"dataframe\">\n  <thead>\n    <tr style=\"text-align: right;\">\n      <th></th>\n      <th>transp exp</th>\n      <th>distance to work</th>\n      <th>age</th>\n      <th>avg work load</th>\n      <th>bmi</th>\n      <th>kids</th>\n      <th>pets</th>\n      <th>weekday</th>\n      <th>month</th>\n      <th>education</th>\n      <th>reason_1</th>\n      <th>reason_2</th>\n      <th>reason_3</th>\n      <th>reason_4</th>\n    </tr>\n  </thead>\n  <tbody>\n    <tr>\n      <th>0</th>\n      <td>1.005844</td>\n      <td>0.412816</td>\n      <td>-0.536062</td>\n      <td>-0.806331</td>\n      <td>0.767431</td>\n      <td>0.880469</td>\n      <td>0.268487</td>\n      <td>-0.683704</td>\n      <td>0.182726</td>\n      <td>0</td>\n      <td>0</td>\n      <td>0</td>\n      <td>0</td>\n      <td>1</td>\n    </tr>\n    <tr>\n      <th>1</th>\n      <td>-1.574681</td>\n      <td>-1.141882</td>\n      <td>2.130803</td>\n      <td>-0.806331</td>\n      <td>1.002633</td>\n      <td>-0.019280</td>\n      <td>-0.589690</td>\n      <td>-0.683704</td>\n      <td>0.182726</td>\n      <td>0</td>\n      <td>0</td>\n      <td>0</td>\n      <td>0</td>\n      <td>0</td>\n    </tr>\n    <tr>\n      <th>2</th>\n      <td>-0.654143</td>\n      <td>1.426749</td>\n      <td>0.248310</td>\n      <td>-0.806331</td>\n      <td>1.002633</td>\n      <td>-0.919030</td>\n      <td>-0.589690</td>\n      <td>-0.007725</td>\n      <td>0.182726</td>\n      <td>0</td>\n      <td>0</td>\n      <td>0</td>\n      <td>0</td>\n      <td>1</td>\n    </tr>\n    <tr>\n      <th>3</th>\n      <td>0.854936</td>\n      <td>-1.682647</td>\n      <td>0.405184</td>\n      <td>-0.806331</td>\n      <td>-0.643782</td>\n      <td>0.880469</td>\n      <td>-0.589690</td>\n      <td>0.668253</td>\n      <td>0.182726</td>\n      <td>0</td>\n      <td>1</td>\n      <td>0</td>\n      <td>0</td>\n      <td>0</td>\n    </tr>\n    <tr>\n      <th>4</th>\n      <td>1.005844</td>\n      <td>0.412816</td>\n      <td>-0.536062</td>\n      <td>-0.806331</td>\n      <td>0.767431</td>\n      <td>0.880469</td>\n      <td>0.268487</td>\n      <td>0.668253</td>\n      <td>0.182726</td>\n      <td>0</td>\n      <td>0</td>\n      <td>0</td>\n      <td>0</td>\n      <td>1</td>\n    </tr>\n  </tbody>\n</table>\n</div>"
     },
     "metadata": {},
     "execution_count": 6
    }
   ],
   "source": [
    "from sklearn.preprocessing import StandardScaler\n",
    "scaler = StandardScaler()\n",
    "X_numeric_std = pd.DataFrame(data = scaler.fit_transform(X[numerical]), columns = numerical)\n",
    "X_scaled = pd.merge(X_numeric_std, X[categorical], left_index = True, right_index = True)\n",
    "X_scaled.head()"
   ]
  },
  {
   "source": [
    "## Train/Test spliting of data"
   ],
   "cell_type": "markdown",
   "metadata": {}
  },
  {
   "cell_type": "code",
   "execution_count": 7,
   "metadata": {},
   "outputs": [],
   "source": [
    "from sklearn.model_selection import train_test_split\n",
    "X_train, X_test, y_train, y_test = train_test_split(X_scaled, y, test_size = 0.20, random_state = 42)"
   ]
  },
  {
   "source": [
    "## Machine Learning model generation and evaluation"
   ],
   "cell_type": "markdown",
   "metadata": {}
  },
  {
   "cell_type": "code",
   "execution_count": 8,
   "metadata": {},
   "outputs": [],
   "source": [
    "from sklearn.linear_model import LogisticRegression\n",
    "from sklearn import metrics"
   ]
  },
  {
   "cell_type": "code",
   "execution_count": 9,
   "metadata": {
    "tags": []
   },
   "outputs": [
    {
     "output_type": "stream",
     "name": "stdout",
     "text": "Our model has an accuracy of 76.79 %\n"
    }
   ],
   "source": [
    "model = LogisticRegression(random_state = 42, n_jobs = -1)\n",
    "model.fit(X_train, y_train)\n",
    "print(\"Our model has an accuracy of\", round(model.score(X_train, y_train) * 100, 2), \"%\")"
   ]
  },
  {
   "source": [
    "### Summary information about the ML model"
   ],
   "cell_type": "markdown",
   "metadata": {}
  },
  {
   "cell_type": "code",
   "execution_count": 10,
   "metadata": {},
   "outputs": [
    {
     "output_type": "execute_result",
     "data": {
      "text/plain": "            variable      coef  odds ratio\n13           weekday  3.071973   21.584445\n11          reason_3  2.928834   18.705810\n14             month  0.994322    2.702890\n12          reason_4  0.732911    2.081130\n1         transp exp  0.674526    1.963103\n6          education  0.418180    1.519193\n5                bmi  0.245360    1.278081\n9           reason_1  0.079737    1.083002\n4      avg work load -0.020752    0.979462\n2   distance to work -0.056784    0.944798\n8               pets -0.158204    0.853675\n3                age -0.257761    0.772780\n10          reason_2 -0.268176    0.764773\n7               kids -0.311343    0.732463\n0          Intercept -1.712398    0.180433",
      "text/html": "<div>\n<style scoped>\n    .dataframe tbody tr th:only-of-type {\n        vertical-align: middle;\n    }\n\n    .dataframe tbody tr th {\n        vertical-align: top;\n    }\n\n    .dataframe thead th {\n        text-align: right;\n    }\n</style>\n<table border=\"1\" class=\"dataframe\">\n  <thead>\n    <tr style=\"text-align: right;\">\n      <th></th>\n      <th>variable</th>\n      <th>coef</th>\n      <th>odds ratio</th>\n    </tr>\n  </thead>\n  <tbody>\n    <tr>\n      <th>13</th>\n      <td>weekday</td>\n      <td>3.071973</td>\n      <td>21.584445</td>\n    </tr>\n    <tr>\n      <th>11</th>\n      <td>reason_3</td>\n      <td>2.928834</td>\n      <td>18.705810</td>\n    </tr>\n    <tr>\n      <th>14</th>\n      <td>month</td>\n      <td>0.994322</td>\n      <td>2.702890</td>\n    </tr>\n    <tr>\n      <th>12</th>\n      <td>reason_4</td>\n      <td>0.732911</td>\n      <td>2.081130</td>\n    </tr>\n    <tr>\n      <th>1</th>\n      <td>transp exp</td>\n      <td>0.674526</td>\n      <td>1.963103</td>\n    </tr>\n    <tr>\n      <th>6</th>\n      <td>education</td>\n      <td>0.418180</td>\n      <td>1.519193</td>\n    </tr>\n    <tr>\n      <th>5</th>\n      <td>bmi</td>\n      <td>0.245360</td>\n      <td>1.278081</td>\n    </tr>\n    <tr>\n      <th>9</th>\n      <td>reason_1</td>\n      <td>0.079737</td>\n      <td>1.083002</td>\n    </tr>\n    <tr>\n      <th>4</th>\n      <td>avg work load</td>\n      <td>-0.020752</td>\n      <td>0.979462</td>\n    </tr>\n    <tr>\n      <th>2</th>\n      <td>distance to work</td>\n      <td>-0.056784</td>\n      <td>0.944798</td>\n    </tr>\n    <tr>\n      <th>8</th>\n      <td>pets</td>\n      <td>-0.158204</td>\n      <td>0.853675</td>\n    </tr>\n    <tr>\n      <th>3</th>\n      <td>age</td>\n      <td>-0.257761</td>\n      <td>0.772780</td>\n    </tr>\n    <tr>\n      <th>10</th>\n      <td>reason_2</td>\n      <td>-0.268176</td>\n      <td>0.764773</td>\n    </tr>\n    <tr>\n      <th>7</th>\n      <td>kids</td>\n      <td>-0.311343</td>\n      <td>0.732463</td>\n    </tr>\n    <tr>\n      <th>0</th>\n      <td>Intercept</td>\n      <td>-1.712398</td>\n      <td>0.180433</td>\n    </tr>\n  </tbody>\n</table>\n</div>"
     },
     "metadata": {},
     "execution_count": 10
    }
   ],
   "source": [
    "model_summary = pd.DataFrame()\n",
    "model_summary[\"variable\"] = X.columns.values\n",
    "model_summary[\"coef\"] = np.transpose(model.coef_)\n",
    "model_summary.index = model_summary.index + 1\n",
    "model_summary.loc[0] = [\"Intercept\", model.intercept_[0]]\n",
    "model_summary[\"odds ratio\"] = np.exp(model_summary.coef)\n",
    "model_summary = model_summary.sort_index()\n",
    "model_summary = model_summary.sort_values(by = \"odds ratio\", axis = 0, ascending = False)\n",
    "model_summary"
   ]
  },
  {
   "source": [
    "## Backward elimination\n",
    "Coefficients with values close to 0 do not contribute much to the ML model, so can be eliminate in a process called **backward elimination**. In this case there are 3 features with values < 0.10:\n",
    "\n",
    "        1. avg work load\n",
    "        2. distance to work\n",
    "        3. pets\n",
    "\n",
    "For that, we go back to the **cleaned_data_until_target** safe copy, redo the standardization, eliminate the 3 features and then recalculate the ML model and it's parameters.        "
   ],
   "cell_type": "markdown",
   "metadata": {}
  },
  {
   "cell_type": "code",
   "execution_count": 11,
   "metadata": {},
   "outputs": [],
   "source": [
    "mod_data = cleaned_data_until_target.drop([\"avg work load\", \"distance to work\", \"pets\"], axis = 1)\n",
    "X_mod = mod_data.iloc[:, :-1]\n",
    "y_mod = mod_data.iloc[:, -1]"
   ]
  },
  {
   "cell_type": "code",
   "execution_count": 12,
   "metadata": {},
   "outputs": [
    {
     "output_type": "execute_result",
     "data": {
      "text/plain": "   transp exp  distance to work       age  avg work load       bmi      kids  \\\n0    1.005844          0.412816 -0.536062      -0.806331  0.767431  0.880469   \n1   -1.574681         -1.141882  2.130803      -0.806331  1.002633 -0.019280   \n2   -0.654143          1.426749  0.248310      -0.806331  1.002633 -0.919030   \n3    0.854936         -1.682647  0.405184      -0.806331 -0.643782  0.880469   \n4    1.005844          0.412816 -0.536062      -0.806331  0.767431  0.880469   \n\n       pets   weekday     month  education  reason_1  reason_2  reason_3  \\\n0  0.268487 -0.683704  0.182726          0         0         0         0   \n1 -0.589690 -0.683704  0.182726          0         0         0         0   \n2 -0.589690 -0.007725  0.182726          0         0         0         0   \n3 -0.589690  0.668253  0.182726          0         1         0         0   \n4  0.268487  0.668253  0.182726          0         0         0         0   \n\n   reason_4  \n0         1  \n1         0  \n2         1  \n3         0  \n4         1  ",
      "text/html": "<div>\n<style scoped>\n    .dataframe tbody tr th:only-of-type {\n        vertical-align: middle;\n    }\n\n    .dataframe tbody tr th {\n        vertical-align: top;\n    }\n\n    .dataframe thead th {\n        text-align: right;\n    }\n</style>\n<table border=\"1\" class=\"dataframe\">\n  <thead>\n    <tr style=\"text-align: right;\">\n      <th></th>\n      <th>transp exp</th>\n      <th>distance to work</th>\n      <th>age</th>\n      <th>avg work load</th>\n      <th>bmi</th>\n      <th>kids</th>\n      <th>pets</th>\n      <th>weekday</th>\n      <th>month</th>\n      <th>education</th>\n      <th>reason_1</th>\n      <th>reason_2</th>\n      <th>reason_3</th>\n      <th>reason_4</th>\n    </tr>\n  </thead>\n  <tbody>\n    <tr>\n      <th>0</th>\n      <td>1.005844</td>\n      <td>0.412816</td>\n      <td>-0.536062</td>\n      <td>-0.806331</td>\n      <td>0.767431</td>\n      <td>0.880469</td>\n      <td>0.268487</td>\n      <td>-0.683704</td>\n      <td>0.182726</td>\n      <td>0</td>\n      <td>0</td>\n      <td>0</td>\n      <td>0</td>\n      <td>1</td>\n    </tr>\n    <tr>\n      <th>1</th>\n      <td>-1.574681</td>\n      <td>-1.141882</td>\n      <td>2.130803</td>\n      <td>-0.806331</td>\n      <td>1.002633</td>\n      <td>-0.019280</td>\n      <td>-0.589690</td>\n      <td>-0.683704</td>\n      <td>0.182726</td>\n      <td>0</td>\n      <td>0</td>\n      <td>0</td>\n      <td>0</td>\n      <td>0</td>\n    </tr>\n    <tr>\n      <th>2</th>\n      <td>-0.654143</td>\n      <td>1.426749</td>\n      <td>0.248310</td>\n      <td>-0.806331</td>\n      <td>1.002633</td>\n      <td>-0.919030</td>\n      <td>-0.589690</td>\n      <td>-0.007725</td>\n      <td>0.182726</td>\n      <td>0</td>\n      <td>0</td>\n      <td>0</td>\n      <td>0</td>\n      <td>1</td>\n    </tr>\n    <tr>\n      <th>3</th>\n      <td>0.854936</td>\n      <td>-1.682647</td>\n      <td>0.405184</td>\n      <td>-0.806331</td>\n      <td>-0.643782</td>\n      <td>0.880469</td>\n      <td>-0.589690</td>\n      <td>0.668253</td>\n      <td>0.182726</td>\n      <td>0</td>\n      <td>1</td>\n      <td>0</td>\n      <td>0</td>\n      <td>0</td>\n    </tr>\n    <tr>\n      <th>4</th>\n      <td>1.005844</td>\n      <td>0.412816</td>\n      <td>-0.536062</td>\n      <td>-0.806331</td>\n      <td>0.767431</td>\n      <td>0.880469</td>\n      <td>0.268487</td>\n      <td>0.668253</td>\n      <td>0.182726</td>\n      <td>0</td>\n      <td>0</td>\n      <td>0</td>\n      <td>0</td>\n      <td>1</td>\n    </tr>\n  </tbody>\n</table>\n</div>"
     },
     "metadata": {},
     "execution_count": 12
    }
   ],
   "source": [
    "categorical = [\"education\", \"reason_1\", \"reason_2\", \"reason_3\", \"reason_4\"]\n",
    "mod_numerical = [\"transp exp\", \"age\", \"bmi\", \"kids\", \"weekday\", \"month\"]\n",
    "\n",
    "X_numeric_std = pd.DataFrame(data = scaler.fit_transform(X[numerical]), columns = numerical) #using same scaler than before\n",
    "X_scaled_mod = pd.merge(X_numeric_std, X[categorical], left_index = True, right_index = True)\n",
    "X_scaled_mod.head()"
   ]
  },
  {
   "cell_type": "code",
   "execution_count": 13,
   "metadata": {},
   "outputs": [],
   "source": [
    "X_train_mod, X_test_mod, y_train_mod, y_test_mod = train_test_split(X_scaled_mod, y_mod, test_size = 0.20, random_state = 42)"
   ]
  },
  {
   "cell_type": "code",
   "execution_count": 14,
   "metadata": {
    "tags": []
   },
   "outputs": [
    {
     "output_type": "stream",
     "name": "stdout",
     "text": "Our modiffied model has an accuracy of 76.79 %\n"
    }
   ],
   "source": [
    "model_mod = LogisticRegression(random_state = 42, n_jobs = -1)\n",
    "model_mod.fit(X_train_mod, y_train_mod)\n",
    "print(\"Our modiffied model has an accuracy of\", round(model_mod.score(X_train_mod, y_train_mod) * 100, 2), \"%\")"
   ]
  },
  {
   "source": [
    "### Summary information about the modified ML model"
   ],
   "cell_type": "markdown",
   "metadata": {}
  },
  {
   "cell_type": "code",
   "execution_count": 16,
   "metadata": {},
   "outputs": [
    {
     "output_type": "execute_result",
     "data": {
      "text/plain": "            variable      coef  odds ratio\n13          reason_3  3.071973   21.584445\n11          reason_1  2.928834   18.705810\n14          reason_4  0.994322    2.702890\n12          reason_2  0.732911    2.081130\n1         transp exp  0.674526    1.963103\n6               kids  0.418180    1.519193\n5                bmi  0.245360    1.278081\n9              month  0.079737    1.083002\n4      avg work load -0.020752    0.979462\n2   distance to work -0.056784    0.944798\n8            weekday -0.158204    0.853675\n3                age -0.257761    0.772780\n10         education -0.268176    0.764773\n7               pets -0.311343    0.732463\n0          Intercept -1.712398    0.180433",
      "text/html": "<div>\n<style scoped>\n    .dataframe tbody tr th:only-of-type {\n        vertical-align: middle;\n    }\n\n    .dataframe tbody tr th {\n        vertical-align: top;\n    }\n\n    .dataframe thead th {\n        text-align: right;\n    }\n</style>\n<table border=\"1\" class=\"dataframe\">\n  <thead>\n    <tr style=\"text-align: right;\">\n      <th></th>\n      <th>variable</th>\n      <th>coef</th>\n      <th>odds ratio</th>\n    </tr>\n  </thead>\n  <tbody>\n    <tr>\n      <th>13</th>\n      <td>reason_3</td>\n      <td>3.071973</td>\n      <td>21.584445</td>\n    </tr>\n    <tr>\n      <th>11</th>\n      <td>reason_1</td>\n      <td>2.928834</td>\n      <td>18.705810</td>\n    </tr>\n    <tr>\n      <th>14</th>\n      <td>reason_4</td>\n      <td>0.994322</td>\n      <td>2.702890</td>\n    </tr>\n    <tr>\n      <th>12</th>\n      <td>reason_2</td>\n      <td>0.732911</td>\n      <td>2.081130</td>\n    </tr>\n    <tr>\n      <th>1</th>\n      <td>transp exp</td>\n      <td>0.674526</td>\n      <td>1.963103</td>\n    </tr>\n    <tr>\n      <th>6</th>\n      <td>kids</td>\n      <td>0.418180</td>\n      <td>1.519193</td>\n    </tr>\n    <tr>\n      <th>5</th>\n      <td>bmi</td>\n      <td>0.245360</td>\n      <td>1.278081</td>\n    </tr>\n    <tr>\n      <th>9</th>\n      <td>month</td>\n      <td>0.079737</td>\n      <td>1.083002</td>\n    </tr>\n    <tr>\n      <th>4</th>\n      <td>avg work load</td>\n      <td>-0.020752</td>\n      <td>0.979462</td>\n    </tr>\n    <tr>\n      <th>2</th>\n      <td>distance to work</td>\n      <td>-0.056784</td>\n      <td>0.944798</td>\n    </tr>\n    <tr>\n      <th>8</th>\n      <td>weekday</td>\n      <td>-0.158204</td>\n      <td>0.853675</td>\n    </tr>\n    <tr>\n      <th>3</th>\n      <td>age</td>\n      <td>-0.257761</td>\n      <td>0.772780</td>\n    </tr>\n    <tr>\n      <th>10</th>\n      <td>education</td>\n      <td>-0.268176</td>\n      <td>0.764773</td>\n    </tr>\n    <tr>\n      <th>7</th>\n      <td>pets</td>\n      <td>-0.311343</td>\n      <td>0.732463</td>\n    </tr>\n    <tr>\n      <th>0</th>\n      <td>Intercept</td>\n      <td>-1.712398</td>\n      <td>0.180433</td>\n    </tr>\n  </tbody>\n</table>\n</div>"
     },
     "metadata": {},
     "execution_count": 16
    }
   ],
   "source": [
    "model_summary = pd.DataFrame()\n",
    "model_summary[\"variable\"] = X_train_mod.columns.values\n",
    "model_summary[\"coef\"] = np.transpose(model_mod.coef_)\n",
    "model_summary.index = model_summary.index + 1\n",
    "model_summary.loc[0] = [\"Intercept\", model_mod.intercept_[0]]\n",
    "model_summary[\"odds ratio\"] = np.exp(model_summary.coef)\n",
    "model_summary = model_summary.sort_index()\n",
    "model_summary = model_summary.sort_values(by = \"odds ratio\", axis = 0, ascending = False)\n",
    "model_summary"
   ]
  },
  {
   "source": [
    "### Testing of the ML modified model with the test_data (X_test, y_test)"
   ],
   "cell_type": "markdown",
   "metadata": {}
  },
  {
   "cell_type": "code",
   "execution_count": 17,
   "metadata": {
    "tags": []
   },
   "outputs": [
    {
     "output_type": "stream",
     "name": "stdout",
     "text": "Our modiffied model has an accuracy of 77.86 %\n"
    }
   ],
   "source": [
    "score = model_mod.score(X_test_mod, y_test_mod)\n",
    "print(\"Our modiffied model has an accuracy of\", round(score * 100, 2), \"%\")"
   ]
  },
  {
   "source": [
    "## Saving the BEST model\n",
    "In this case the best model is the modified model, so that is the one that we are going to save for later. We will save it at a pickle file together with the scaler method we used for the numerical data, so if we have to use this ML model with further data, we can proceed with the same data treatment."
   ],
   "cell_type": "markdown",
   "metadata": {}
  },
  {
   "cell_type": "code",
   "execution_count": 19,
   "metadata": {},
   "outputs": [],
   "source": [
    "import pickle\n",
    "\n",
    "with open(\"model_mod\", \"wb\") as file:\n",
    "    pickle.dump(model_mod, file) #saving the modified model at the current directory\n",
    "\n",
    "with open(\"scaler\", \"wb\") as file:\n",
    "    pickle.dump(scaler, file) #saving the scaler at the current directory"
   ]
  }
 ]
}